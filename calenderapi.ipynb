{
 "cells": [
  {
   "cell_type": "code",
   "execution_count": 1,
   "metadata": {},
   "outputs": [
    {
     "name": "stdout",
     "output_type": "stream",
     "text": [
      "Requirement already satisfied: google-api-python-client in c:\\users\\nishant\\anaconda3\\envs\\cy\\lib\\site-packages (1.10.0)\n",
      "Requirement already satisfied: google-api-core<2dev,>=1.18.0 in c:\\users\\nishant\\anaconda3\\envs\\cy\\lib\\site-packages (from google-api-python-client) (1.22.0)\n",
      "Requirement already satisfied: google-auth>=1.16.0 in c:\\users\\nishant\\anaconda3\\envs\\cy\\lib\\site-packages (from google-api-python-client) (1.20.0)\n",
      "Requirement already satisfied: google-auth-httplib2>=0.0.3 in c:\\users\\nishant\\anaconda3\\envs\\cy\\lib\\site-packages (from google-api-python-client) (0.0.4)\n",
      "Requirement already satisfied: uritemplate<4dev,>=3.0.0 in c:\\users\\nishant\\anaconda3\\envs\\cy\\lib\\site-packages (from google-api-python-client) (3.0.1)\n",
      "Requirement already satisfied: httplib2<1dev,>=0.9.2 in c:\\users\\nishant\\anaconda3\\envs\\cy\\lib\\site-packages (from google-api-python-client) (0.18.1)\n",
      "Requirement already satisfied: six<2dev,>=1.6.1 in c:\\users\\nishant\\anaconda3\\envs\\cy\\lib\\site-packages (from google-api-python-client) (1.15.0)\n",
      "Requirement already satisfied: protobuf>=3.12.0 in c:\\users\\nishant\\anaconda3\\envs\\cy\\lib\\site-packages (from google-api-core<2dev,>=1.18.0->google-api-python-client) (3.12.2)\n",
      "Requirement already satisfied: setuptools>=34.0.0 in c:\\users\\nishant\\anaconda3\\envs\\cy\\lib\\site-packages (from google-api-core<2dev,>=1.18.0->google-api-python-client) (47.3.1.post20200622)\n",
      "Requirement already satisfied: googleapis-common-protos<2.0dev,>=1.6.0 in c:\\users\\nishant\\anaconda3\\envs\\cy\\lib\\site-packages (from google-api-core<2dev,>=1.18.0->google-api-python-client) (1.52.0)\n",
      "Requirement already satisfied: pytz in c:\\users\\nishant\\anaconda3\\envs\\cy\\lib\\site-packages (from google-api-core<2dev,>=1.18.0->google-api-python-client) (2019.3)\n",
      "Note: you may need to restart the kernel to use updated packages.Requirement already satisfied: requests<3.0.0dev,>=2.18.0 in c:\\users\\nishant\\anaconda3\\envs\\cy\\lib\\site-packages (from google-api-core<2dev,>=1.18.0->google-api-python-client) (2.24.0)\n",
      "Requirement already satisfied: rsa<5,>=3.1.4; python_version >= \"3.5\" in c:\\users\\nishant\\anaconda3\\envs\\cy\\lib\\site-packages (from google-auth>=1.16.0->google-api-python-client) (4.6)\n",
      "Requirement already satisfied: cachetools<5.0,>=2.0.0 in c:\\users\\nishant\\anaconda3\\envs\\cy\\lib\\site-packages (from google-auth>=1.16.0->google-api-python-client) (4.1.1)\n",
      "Requirement already satisfied: pyasn1-modules>=0.2.1 in c:\\users\\nishant\\anaconda3\\envs\\cy\\lib\\site-packages (from google-auth>=1.16.0->google-api-python-client) (0.2.8)\n",
      "Requirement already satisfied: chardet<4,>=3.0.2 in c:\\users\\nishant\\anaconda3\\envs\\cy\\lib\\site-packages (from requests<3.0.0dev,>=2.18.0->google-api-core<2dev,>=1.18.0->google-api-python-client) (3.0.4)\n",
      "Requirement already satisfied: urllib3!=1.25.0,!=1.25.1,<1.26,>=1.21.1 in c:\\users\\nishant\\anaconda3\\envs\\cy\\lib\\site-packages (from requests<3.0.0dev,>=2.18.0->google-api-core<2dev,>=1.18.0->google-api-python-client) (1.25.9)\n",
      "Requirement already satisfied: idna<3,>=2.5 in c:\\users\\nishant\\anaconda3\\envs\\cy\\lib\\site-packages (from requests<3.0.0dev,>=2.18.0->google-api-core<2dev,>=1.18.0->google-api-python-client) (2.9)\n",
      "Requirement already satisfied: certifi>=2017.4.17 in c:\\users\\nishant\\anaconda3\\envs\\cy\\lib\\site-packages (from requests<3.0.0dev,>=2.18.0->google-api-core<2dev,>=1.18.0->google-api-python-client) (2020.6.20)\n",
      "Requirement already satisfied: pyasn1>=0.1.3 in c:\\users\\nishant\\anaconda3\\envs\\cy\\lib\\site-packages (from rsa<5,>=3.1.4; python_version >= \"3.5\"->google-auth>=1.16.0->google-api-python-client) (0.4.8)\n",
      "\n"
     ]
    }
   ],
   "source": [
    "pip install google-api-python-client\n"
   ]
  },
  {
   "cell_type": "code",
   "execution_count": 2,
   "metadata": {},
   "outputs": [],
   "source": [
    "from apiclient.discovery import build\n",
    "from google_auth_oauthlib.flow import InstalledAppFlow"
   ]
  },
  {
   "cell_type": "code",
   "execution_count": 3,
   "metadata": {},
   "outputs": [],
   "source": [
    "scopes = ['https://www.googleapis.com/auth/calendar']\n"
   ]
  },
  {
   "cell_type": "code",
   "execution_count": 4,
   "metadata": {},
   "outputs": [],
   "source": [
    "flow = InstalledAppFlow.from_client_secrets_file(\"desktop\\credential1.json\", scopes=scopes)"
   ]
  },
  {
   "cell_type": "code",
   "execution_count": 5,
   "metadata": {},
   "outputs": [
    {
     "name": "stdout",
     "output_type": "stream",
     "text": [
      "Please visit this URL to authorize this application: https://accounts.google.com/o/oauth2/auth?response_type=code&client_id=464578369549-1n1rgsnj10u2gjnsn92rphot0lvn37dt.apps.googleusercontent.com&redirect_uri=urn%3Aietf%3Awg%3Aoauth%3A2.0%3Aoob&scope=https%3A%2F%2Fwww.googleapis.com%2Fauth%2Fcalendar&state=J2FDmW7bHrqlrTj9pq6Pf3HZqSkZ29&prompt=consent&access_type=offline\n",
      "Enter the authorization code: 4/1AY0e-g4cRbD5Tz_gciYsTeTbcmcLh3cOH5xAp3oVSgPEkyQ2nrHnnn_nkxw\n"
     ]
    }
   ],
   "source": [
    "credentials = flow.run_console()"
   ]
  },
  {
   "cell_type": "code",
   "execution_count": 6,
   "metadata": {},
   "outputs": [],
   "source": [
    "import pickle"
   ]
  },
  {
   "cell_type": "code",
   "execution_count": 7,
   "metadata": {},
   "outputs": [],
   "source": [
    "pickle.dump(credentials, open(\"token.pkl\", \"wb\"))\n"
   ]
  },
  {
   "cell_type": "code",
   "execution_count": 8,
   "metadata": {},
   "outputs": [],
   "source": [
    "credentials = pickle.load(open(\"token.pkl\", \"rb\"))"
   ]
  },
  {
   "cell_type": "code",
   "execution_count": 9,
   "metadata": {},
   "outputs": [
    {
     "name": "stdout",
     "output_type": "stream",
     "text": [
      "<google.oauth2.credentials.Credentials object at 0x000000D8473AFE08>\n"
     ]
    }
   ],
   "source": [
    "print(credentials)"
   ]
  },
  {
   "cell_type": "code",
   "execution_count": 10,
   "metadata": {},
   "outputs": [],
   "source": [
    "service = build(\"calendar\", \"v3\", credentials=credentials)"
   ]
  },
  {
   "cell_type": "code",
   "execution_count": 11,
   "metadata": {},
   "outputs": [],
   "source": [
    "\n",
    "result = service.calendarList().list().execute()"
   ]
  },
  {
   "cell_type": "code",
   "execution_count": 12,
   "metadata": {},
   "outputs": [
    {
     "name": "stdout",
     "output_type": "stream",
     "text": [
      "{'kind': 'calendar#calendarList', 'etag': '\"p32c9hktps77us0g\"', 'nextSyncToken': 'CJiY07nhz-4CEhduaXNoYW50LmRoYXJpQGdtYWlsLmNvbQ==', 'items': [{'kind': 'calendar#calendarListEntry', 'etag': '\"1406183664349000\"', 'id': 'nishant.dhari@gmail.com', 'summary': 'nishant.dhari@gmail.com', 'timeZone': 'Asia/Kolkata', 'colorId': '17', 'backgroundColor': '#9a9cff', 'foregroundColor': '#000000', 'selected': True, 'accessRole': 'owner', 'defaultReminders': [{'method': 'popup', 'minutes': 30}], 'notificationSettings': {'notifications': [{'type': 'eventCreation', 'method': 'email'}, {'type': 'eventChange', 'method': 'email'}, {'type': 'eventCancellation', 'method': 'email'}, {'type': 'eventResponse', 'method': 'email'}]}, 'primary': True, 'conferenceProperties': {'allowedConferenceSolutionTypes': ['hangoutsMeet']}}, {'kind': 'calendar#calendarListEntry', 'etag': '\"1612418523325000\"', 'id': 'addressbook#contacts@group.v.calendar.google.com', 'summary': 'Birthdays', 'description': 'Displays birthdays, anniversaries, and other event dates of people in Google Contacts.', 'timeZone': 'Asia/Kolkata', 'colorId': '13', 'backgroundColor': '#92e1c0', 'foregroundColor': '#000000', 'selected': True, 'accessRole': 'reader', 'defaultReminders': [], 'conferenceProperties': {'allowedConferenceSolutionTypes': ['hangoutsMeet']}}, {'kind': 'calendar#calendarListEntry', 'etag': '\"1612418523325000\"', 'id': 'en.indian#holiday@group.v.calendar.google.com', 'summary': 'Holidays in India', 'description': 'Holidays and Observances in India', 'timeZone': 'Asia/Kolkata', 'colorId': '8', 'backgroundColor': '#16a765', 'foregroundColor': '#000000', 'selected': True, 'accessRole': 'reader', 'defaultReminders': [], 'conferenceProperties': {'allowedConferenceSolutionTypes': ['hangoutsMeet']}}]}\n"
     ]
    }
   ],
   "source": [
    "print(result)"
   ]
  },
  {
   "cell_type": "code",
   "execution_count": 13,
   "metadata": {},
   "outputs": [],
   "source": [
    "\n",
    "from datetime import datetime, timedelta"
   ]
  },
  {
   "cell_type": "code",
   "execution_count": 14,
   "metadata": {},
   "outputs": [],
   "source": [
    "start_time = datetime(2021, 5, 12, 19, 30, 0)\n",
    "end_time = start_time + timedelta(hours=4)\n",
    "timezone = 'Asia/Kolkata'"
   ]
  },
  {
   "cell_type": "code",
   "execution_count": 15,
   "metadata": {},
   "outputs": [],
   "source": [
    "event = {\n",
    "  'summary': 'Meet',\n",
    "  'location': 'Ranchi',\n",
    "  'description': 'Calender Api',\n",
    "  'start': {\n",
    "    'dateTime': start_time.strftime(\"%Y-%m-%dT%H:%M:%S\"),\n",
    "    'timeZone': timezone,\n",
    "  },\n",
    "  'end': {\n",
    "    'dateTime': end_time.strftime(\"%Y-%m-%dT%H:%M:%S\"),\n",
    "    'timeZone': timezone,\n",
    "  },\n",
    "  'reminders': {\n",
    "    'useDefault': True,\n",
    "    \n",
    "  },\n",
    "    'conferenceProperties':{\n",
    "        'allowedConferenceSolutionTypes': ['hangoutsMeet']}\n",
    "}"
   ]
  },
  {
   "cell_type": "code",
   "execution_count": 16,
   "metadata": {},
   "outputs": [],
   "source": [
    "calendar_id = result['items'][0]['id']"
   ]
  },
  {
   "cell_type": "code",
   "execution_count": 17,
   "metadata": {},
   "outputs": [
    {
     "name": "stdout",
     "output_type": "stream",
     "text": [
      "nishant.dhari@gmail.com\n"
     ]
    }
   ],
   "source": [
    "print(calendar_id)"
   ]
  },
  {
   "cell_type": "code",
   "execution_count": 18,
   "metadata": {},
   "outputs": [
    {
     "data": {
      "text/plain": [
       "{'kind': 'calendar#event',\n",
       " 'etag': '\"3224968674954000\"',\n",
       " 'id': '208lr6p4mptlamene8kd9q9sjk',\n",
       " 'status': 'confirmed',\n",
       " 'htmlLink': 'https://www.google.com/calendar/event?eid=MjA4bHI2cDRtcHRsYW1lbmU4a2Q5cTlzamsgbmlzaGFudC5kaGFyaUBt',\n",
       " 'created': '2021-02-05T00:18:57.000Z',\n",
       " 'updated': '2021-02-05T00:18:57.477Z',\n",
       " 'summary': 'Meet',\n",
       " 'description': 'Calender Api',\n",
       " 'location': 'Ranchi',\n",
       " 'creator': {'email': 'nishant.dhari@gmail.com', 'self': True},\n",
       " 'organizer': {'email': 'nishant.dhari@gmail.com', 'self': True},\n",
       " 'start': {'dateTime': '2021-05-12T19:30:00+05:30',\n",
       "  'timeZone': 'Asia/Kolkata'},\n",
       " 'end': {'dateTime': '2021-05-12T23:30:00+05:30', 'timeZone': 'Asia/Kolkata'},\n",
       " 'iCalUID': '208lr6p4mptlamene8kd9q9sjk@google.com',\n",
       " 'sequence': 0,\n",
       " 'reminders': {'useDefault': True},\n",
       " 'eventType': 'default'}"
      ]
     },
     "execution_count": 18,
     "metadata": {},
     "output_type": "execute_result"
    }
   ],
   "source": [
    "service.events().insert(calendarId=calendar_id, body=event).execute()"
   ]
  },
  {
   "cell_type": "code",
   "execution_count": 21,
   "metadata": {},
   "outputs": [],
   "source": [
    "from uuid import uuid4\n",
    "start_time = datetime(2021, 2, 6, 19, 30, 0)\n",
    "end_time = start_time + timedelta(hours=4)\n",
    "timezone = 'Asia/Kolkata'\n",
    "\n",
    "\n",
    "\n",
    "event1 = {\n",
    "  'summary': 'Meet',\n",
    "  'location': 'Ranchi',\n",
    "  'description': 'Calender Api',\n",
    "  'start': {\n",
    "    'dateTime': start_time.strftime(\"%Y-%m-%dT%H:%M:%S\"),\n",
    "    'timeZone': timezone,\n",
    "  },\n",
    "  'end': {\n",
    "    'dateTime': end_time.strftime(\"%Y-%m-%dT%H:%M:%S\"),\n",
    "    'timeZone': timezone,\n",
    "  },\n",
    "  'reminders': {\n",
    "    'useDefault': True,\n",
    "    \n",
    "  },\n",
    "   \"conferenceData\": {\"createRequest\": {\"requestId\": f\"{uuid4().hex}\",\n",
    "                                                      \"conferenceSolutionKey\": {\"type\": \"hangoutsMeet\"}}},\n",
    "            \"conferenceDataVersion\":\"1\",\n",
    "}"
   ]
  },
  {
   "cell_type": "code",
   "execution_count": 22,
   "metadata": {},
   "outputs": [
    {
     "data": {
      "text/plain": [
       "{'kind': 'calendar#event',\n",
       " 'etag': '\"3224970153622000\"',\n",
       " 'id': 'hidsvgsrvk3tinh36pqpdlenvs',\n",
       " 'status': 'confirmed',\n",
       " 'htmlLink': 'https://www.google.com/calendar/event?eid=aGlkc3Znc3J2azN0aW5oMzZwcXBkbGVudnMgbmlzaGFudC5kaGFyaUBt',\n",
       " 'created': '2021-02-05T00:31:16.000Z',\n",
       " 'updated': '2021-02-05T00:31:16.811Z',\n",
       " 'summary': 'Meet',\n",
       " 'description': 'Calender Api',\n",
       " 'location': 'Ranchi',\n",
       " 'creator': {'email': 'nishant.dhari@gmail.com', 'self': True},\n",
       " 'organizer': {'email': 'nishant.dhari@gmail.com', 'self': True},\n",
       " 'start': {'dateTime': '2021-02-06T19:30:00+05:30',\n",
       "  'timeZone': 'Asia/Kolkata'},\n",
       " 'end': {'dateTime': '2021-02-06T23:30:00+05:30', 'timeZone': 'Asia/Kolkata'},\n",
       " 'iCalUID': 'hidsvgsrvk3tinh36pqpdlenvs@google.com',\n",
       " 'sequence': 0,\n",
       " 'reminders': {'useDefault': True},\n",
       " 'eventType': 'default'}"
      ]
     },
     "execution_count": 22,
     "metadata": {},
     "output_type": "execute_result"
    }
   ],
   "source": [
    "service.events().insert(calendarId=calendar_id, body=event1).execute()"
   ]
  },
  {
   "cell_type": "code",
   "execution_count": null,
   "metadata": {},
   "outputs": [],
   "source": []
  }
 ],
 "metadata": {
  "kernelspec": {
   "display_name": "Python 3",
   "language": "python",
   "name": "python3"
  },
  "language_info": {
   "codemirror_mode": {
    "name": "ipython",
    "version": 3
   },
   "file_extension": ".py",
   "mimetype": "text/x-python",
   "name": "python",
   "nbconvert_exporter": "python",
   "pygments_lexer": "ipython3",
   "version": "3.7.7"
  }
 },
 "nbformat": 4,
 "nbformat_minor": 4
}
